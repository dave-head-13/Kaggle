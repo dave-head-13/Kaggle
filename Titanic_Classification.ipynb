{
 "cells": [
  {
   "cell_type": "markdown",
   "metadata": {},
   "source": [
    "## Titanic Classification Project"
   ]
  },
  {
   "cell_type": "markdown",
   "metadata": {},
   "source": [
    "In this project I will be exloring the Titantic Dataset in Kaggle with the main to goal being to compare two Classification Algorithms: Logistic Regression & Artificial Neural Networks. Before I apply any machine learning Algorithms I will be performing some Exploratory Data Analysis using Pandas and Seaborn. Then we will attempt to select some of the most relevant features and also consider engineering new ones if necessary. Finally I will use a Logistic regression approach and compare it's accuracy to Artificial Neural Networks."
   ]
  },
  {
   "cell_type": "markdown",
   "metadata": {},
   "source": [
    "#### Importing Libraries and the Dataset"
   ]
  },
  {
   "cell_type": "code",
   "execution_count": 1,
   "metadata": {},
   "outputs": [],
   "source": [
    "import pandas as pd\n",
    "import numpy as np\n",
    "import matplotlib.pyplot as plt\n",
    "import seaborn as sns\n",
    "%matplotlib inline"
   ]
  },
  {
   "cell_type": "code",
   "execution_count": 2,
   "metadata": {},
   "outputs": [
    {
     "data": {
      "text/html": [
       "<div>\n",
       "<style scoped>\n",
       "    .dataframe tbody tr th:only-of-type {\n",
       "        vertical-align: middle;\n",
       "    }\n",
       "\n",
       "    .dataframe tbody tr th {\n",
       "        vertical-align: top;\n",
       "    }\n",
       "\n",
       "    .dataframe thead th {\n",
       "        text-align: right;\n",
       "    }\n",
       "</style>\n",
       "<table border=\"1\" class=\"dataframe\">\n",
       "  <thead>\n",
       "    <tr style=\"text-align: right;\">\n",
       "      <th></th>\n",
       "      <th>PassengerId</th>\n",
       "      <th>Survived</th>\n",
       "      <th>Pclass</th>\n",
       "      <th>Name</th>\n",
       "      <th>Sex</th>\n",
       "      <th>Age</th>\n",
       "      <th>SibSp</th>\n",
       "      <th>Parch</th>\n",
       "      <th>Ticket</th>\n",
       "      <th>Fare</th>\n",
       "      <th>Cabin</th>\n",
       "      <th>Embarked</th>\n",
       "    </tr>\n",
       "  </thead>\n",
       "  <tbody>\n",
       "    <tr>\n",
       "      <th>0</th>\n",
       "      <td>1</td>\n",
       "      <td>0</td>\n",
       "      <td>3</td>\n",
       "      <td>Braund, Mr. Owen Harris</td>\n",
       "      <td>male</td>\n",
       "      <td>22.0</td>\n",
       "      <td>1</td>\n",
       "      <td>0</td>\n",
       "      <td>A/5 21171</td>\n",
       "      <td>7.2500</td>\n",
       "      <td>NaN</td>\n",
       "      <td>S</td>\n",
       "    </tr>\n",
       "    <tr>\n",
       "      <th>1</th>\n",
       "      <td>2</td>\n",
       "      <td>1</td>\n",
       "      <td>1</td>\n",
       "      <td>Cumings, Mrs. John Bradley (Florence Briggs Th...</td>\n",
       "      <td>female</td>\n",
       "      <td>38.0</td>\n",
       "      <td>1</td>\n",
       "      <td>0</td>\n",
       "      <td>PC 17599</td>\n",
       "      <td>71.2833</td>\n",
       "      <td>C85</td>\n",
       "      <td>C</td>\n",
       "    </tr>\n",
       "    <tr>\n",
       "      <th>2</th>\n",
       "      <td>3</td>\n",
       "      <td>1</td>\n",
       "      <td>3</td>\n",
       "      <td>Heikkinen, Miss. Laina</td>\n",
       "      <td>female</td>\n",
       "      <td>26.0</td>\n",
       "      <td>0</td>\n",
       "      <td>0</td>\n",
       "      <td>STON/O2. 3101282</td>\n",
       "      <td>7.9250</td>\n",
       "      <td>NaN</td>\n",
       "      <td>S</td>\n",
       "    </tr>\n",
       "    <tr>\n",
       "      <th>3</th>\n",
       "      <td>4</td>\n",
       "      <td>1</td>\n",
       "      <td>1</td>\n",
       "      <td>Futrelle, Mrs. Jacques Heath (Lily May Peel)</td>\n",
       "      <td>female</td>\n",
       "      <td>35.0</td>\n",
       "      <td>1</td>\n",
       "      <td>0</td>\n",
       "      <td>113803</td>\n",
       "      <td>53.1000</td>\n",
       "      <td>C123</td>\n",
       "      <td>S</td>\n",
       "    </tr>\n",
       "    <tr>\n",
       "      <th>4</th>\n",
       "      <td>5</td>\n",
       "      <td>0</td>\n",
       "      <td>3</td>\n",
       "      <td>Allen, Mr. William Henry</td>\n",
       "      <td>male</td>\n",
       "      <td>35.0</td>\n",
       "      <td>0</td>\n",
       "      <td>0</td>\n",
       "      <td>373450</td>\n",
       "      <td>8.0500</td>\n",
       "      <td>NaN</td>\n",
       "      <td>S</td>\n",
       "    </tr>\n",
       "  </tbody>\n",
       "</table>\n",
       "</div>"
      ],
      "text/plain": [
       "   PassengerId  Survived  Pclass  \\\n",
       "0            1         0       3   \n",
       "1            2         1       1   \n",
       "2            3         1       3   \n",
       "3            4         1       1   \n",
       "4            5         0       3   \n",
       "\n",
       "                                                Name     Sex   Age  SibSp  \\\n",
       "0                            Braund, Mr. Owen Harris    male  22.0      1   \n",
       "1  Cumings, Mrs. John Bradley (Florence Briggs Th...  female  38.0      1   \n",
       "2                             Heikkinen, Miss. Laina  female  26.0      0   \n",
       "3       Futrelle, Mrs. Jacques Heath (Lily May Peel)  female  35.0      1   \n",
       "4                           Allen, Mr. William Henry    male  35.0      0   \n",
       "\n",
       "   Parch            Ticket     Fare Cabin Embarked  \n",
       "0      0         A/5 21171   7.2500   NaN        S  \n",
       "1      0          PC 17599  71.2833   C85        C  \n",
       "2      0  STON/O2. 3101282   7.9250   NaN        S  \n",
       "3      0            113803  53.1000  C123        S  \n",
       "4      0            373450   8.0500   NaN        S  "
      ]
     },
     "execution_count": 2,
     "metadata": {},
     "output_type": "execute_result"
    }
   ],
   "source": [
    "df = pd.read_csv('train.csv')\n",
    "test = pd.read_csv('test.csv')\n",
    "df.head()"
   ]
  },
  {
   "cell_type": "markdown",
   "metadata": {},
   "source": [
    "#### Exploratory Data Analysis"
   ]
  },
  {
   "cell_type": "markdown",
   "metadata": {},
   "source": [
    "So it looks like the data set has a range of variables, some Numeric and some Categorical. Let's have a look at the data and see what kind of data cleansing we might need to do as well as which variables are most promising for predicting our target variable 'Survived'."
   ]
  },
  {
   "cell_type": "code",
   "execution_count": 3,
   "metadata": {},
   "outputs": [
    {
     "name": "stdout",
     "output_type": "stream",
     "text": [
      "<class 'pandas.core.frame.DataFrame'>\n",
      "RangeIndex: 891 entries, 0 to 890\n",
      "Data columns (total 12 columns):\n",
      " #   Column       Non-Null Count  Dtype  \n",
      "---  ------       --------------  -----  \n",
      " 0   PassengerId  891 non-null    int64  \n",
      " 1   Survived     891 non-null    int64  \n",
      " 2   Pclass       891 non-null    int64  \n",
      " 3   Name         891 non-null    object \n",
      " 4   Sex          891 non-null    object \n",
      " 5   Age          714 non-null    float64\n",
      " 6   SibSp        891 non-null    int64  \n",
      " 7   Parch        891 non-null    int64  \n",
      " 8   Ticket       891 non-null    object \n",
      " 9   Fare         891 non-null    float64\n",
      " 10  Cabin        204 non-null    object \n",
      " 11  Embarked     889 non-null    object \n",
      "dtypes: float64(2), int64(5), object(5)\n",
      "memory usage: 83.7+ KB\n"
     ]
    }
   ],
   "source": [
    "df.info()"
   ]
  },
  {
   "cell_type": "code",
   "execution_count": 4,
   "metadata": {},
   "outputs": [
    {
     "data": {
      "text/html": [
       "<div>\n",
       "<style scoped>\n",
       "    .dataframe tbody tr th:only-of-type {\n",
       "        vertical-align: middle;\n",
       "    }\n",
       "\n",
       "    .dataframe tbody tr th {\n",
       "        vertical-align: top;\n",
       "    }\n",
       "\n",
       "    .dataframe thead th {\n",
       "        text-align: right;\n",
       "    }\n",
       "</style>\n",
       "<table border=\"1\" class=\"dataframe\">\n",
       "  <thead>\n",
       "    <tr style=\"text-align: right;\">\n",
       "      <th></th>\n",
       "      <th>PassengerId</th>\n",
       "      <th>Survived</th>\n",
       "      <th>Pclass</th>\n",
       "      <th>Age</th>\n",
       "      <th>SibSp</th>\n",
       "      <th>Parch</th>\n",
       "      <th>Fare</th>\n",
       "    </tr>\n",
       "  </thead>\n",
       "  <tbody>\n",
       "    <tr>\n",
       "      <th>count</th>\n",
       "      <td>891.000000</td>\n",
       "      <td>891.000000</td>\n",
       "      <td>891.000000</td>\n",
       "      <td>714.000000</td>\n",
       "      <td>891.000000</td>\n",
       "      <td>891.000000</td>\n",
       "      <td>891.000000</td>\n",
       "    </tr>\n",
       "    <tr>\n",
       "      <th>mean</th>\n",
       "      <td>446.000000</td>\n",
       "      <td>0.383838</td>\n",
       "      <td>2.308642</td>\n",
       "      <td>29.699118</td>\n",
       "      <td>0.523008</td>\n",
       "      <td>0.381594</td>\n",
       "      <td>32.204208</td>\n",
       "    </tr>\n",
       "    <tr>\n",
       "      <th>std</th>\n",
       "      <td>257.353842</td>\n",
       "      <td>0.486592</td>\n",
       "      <td>0.836071</td>\n",
       "      <td>14.526497</td>\n",
       "      <td>1.102743</td>\n",
       "      <td>0.806057</td>\n",
       "      <td>49.693429</td>\n",
       "    </tr>\n",
       "    <tr>\n",
       "      <th>min</th>\n",
       "      <td>1.000000</td>\n",
       "      <td>0.000000</td>\n",
       "      <td>1.000000</td>\n",
       "      <td>0.420000</td>\n",
       "      <td>0.000000</td>\n",
       "      <td>0.000000</td>\n",
       "      <td>0.000000</td>\n",
       "    </tr>\n",
       "    <tr>\n",
       "      <th>25%</th>\n",
       "      <td>223.500000</td>\n",
       "      <td>0.000000</td>\n",
       "      <td>2.000000</td>\n",
       "      <td>20.125000</td>\n",
       "      <td>0.000000</td>\n",
       "      <td>0.000000</td>\n",
       "      <td>7.910400</td>\n",
       "    </tr>\n",
       "    <tr>\n",
       "      <th>50%</th>\n",
       "      <td>446.000000</td>\n",
       "      <td>0.000000</td>\n",
       "      <td>3.000000</td>\n",
       "      <td>28.000000</td>\n",
       "      <td>0.000000</td>\n",
       "      <td>0.000000</td>\n",
       "      <td>14.454200</td>\n",
       "    </tr>\n",
       "    <tr>\n",
       "      <th>75%</th>\n",
       "      <td>668.500000</td>\n",
       "      <td>1.000000</td>\n",
       "      <td>3.000000</td>\n",
       "      <td>38.000000</td>\n",
       "      <td>1.000000</td>\n",
       "      <td>0.000000</td>\n",
       "      <td>31.000000</td>\n",
       "    </tr>\n",
       "    <tr>\n",
       "      <th>max</th>\n",
       "      <td>891.000000</td>\n",
       "      <td>1.000000</td>\n",
       "      <td>3.000000</td>\n",
       "      <td>80.000000</td>\n",
       "      <td>8.000000</td>\n",
       "      <td>6.000000</td>\n",
       "      <td>512.329200</td>\n",
       "    </tr>\n",
       "  </tbody>\n",
       "</table>\n",
       "</div>"
      ],
      "text/plain": [
       "       PassengerId    Survived      Pclass         Age       SibSp  \\\n",
       "count   891.000000  891.000000  891.000000  714.000000  891.000000   \n",
       "mean    446.000000    0.383838    2.308642   29.699118    0.523008   \n",
       "std     257.353842    0.486592    0.836071   14.526497    1.102743   \n",
       "min       1.000000    0.000000    1.000000    0.420000    0.000000   \n",
       "25%     223.500000    0.000000    2.000000   20.125000    0.000000   \n",
       "50%     446.000000    0.000000    3.000000   28.000000    0.000000   \n",
       "75%     668.500000    1.000000    3.000000   38.000000    1.000000   \n",
       "max     891.000000    1.000000    3.000000   80.000000    8.000000   \n",
       "\n",
       "            Parch        Fare  \n",
       "count  891.000000  891.000000  \n",
       "mean     0.381594   32.204208  \n",
       "std      0.806057   49.693429  \n",
       "min      0.000000    0.000000  \n",
       "25%      0.000000    7.910400  \n",
       "50%      0.000000   14.454200  \n",
       "75%      0.000000   31.000000  \n",
       "max      6.000000  512.329200  "
      ]
     },
     "execution_count": 4,
     "metadata": {},
     "output_type": "execute_result"
    }
   ],
   "source": [
    "df.describe()"
   ]
  },
  {
   "cell_type": "code",
   "execution_count": 5,
   "metadata": {},
   "outputs": [
    {
     "data": {
      "text/plain": [
       "<matplotlib.axes._subplots.AxesSubplot at 0xb4c6408>"
      ]
     },
     "execution_count": 5,
     "metadata": {},
     "output_type": "execute_result"
    },
    {
     "data": {
      "image/png": "[encoded data removed]",
      "text/plain": [
       "<Figure size 432x288 with 1 Axes>"
      ]
     },
     "metadata": {
      "needs_background": "light"
     },
     "output_type": "display_data"
    }
   ],
   "source": [
    "sns.heatmap(df.isnull(),yticklabels=False,cbar=False,cmap='GnBu')"
   ]
  },
  {
   "cell_type": "markdown",
   "metadata": {},
   "source": [
    "It appears as though we have missing data in the 'Age' and 'Cabin' Variables. In fact, the vast majority of Cabin data seems to be missing. It could be that the absence of a Cabin value simply indicates that the passenger did not have a cabin at all, I will change this to be a binary variable, 1 if the pasenger had a Cabin, 0 if not. However, Age would likely play some kind of role in Survival and as only ~20% of this data is missing, let's try to find a way to estimate this from the rest of the data."
   ]
  },
  {
   "cell_type": "code",
   "execution_count": 6,
   "metadata": {},
   "outputs": [
    {
     "data": {
      "text/plain": [
       "<matplotlib.axes._subplots.AxesSubplot at 0xb575d88>"
      ]
     },
     "execution_count": 6,
     "metadata": {},
     "output_type": "execute_result"
    },
    {
     "data": {
      "image/png": "[encoded data removed]",
      "text/plain": [
       "<Figure size 576x360 with 2 Axes>"
      ]
     },
     "metadata": {
      "needs_background": "light"
     },
     "output_type": "display_data"
    }
   ],
   "source": [
    "plt.figure(figsize=(8,5))\n",
    "sns.heatmap(df.corr(),annot=True,cmap='YlOrRd')"
   ]
  },
  {
   "cell_type": "code",
   "execution_count": 7,
   "metadata": {},
   "outputs": [
    {
     "data": {
      "text/plain": [
       "<matplotlib.axes._subplots.AxesSubplot at 0xb575f08>"
      ]
     },
     "execution_count": 7,
     "metadata": {},
     "output_type": "execute_result"
    },
    {
     "data": {
      "image/png": "[encoded data removed]",
      "text/plain": [
       "<Figure size 648x432 with 1 Axes>"
      ]
     },
     "metadata": {
      "needs_background": "light"
     },
     "output_type": "display_data"
    }
   ],
   "source": [
    "plt.figure(figsize=(9,6))\n",
    "sns.boxplot(x='Pclass',y='Age',data=df, hue='Sex')"
   ]
  },
  {
   "cell_type": "markdown",
   "metadata": {},
   "source": [
    "As we can see from the correlation matrix, Age is most strongly correlated (negatively) with Pclass (the type of ticket each passenger had). We could calculate an average age per ticket class, split by gender and use this to fill in any blanks in the age column."
   ]
  },
  {
   "cell_type": "code",
   "execution_count": 8,
   "metadata": {},
   "outputs": [
    {
     "data": {
      "text/plain": [
       "Pclass  Sex   \n",
       "1       female    34.611765\n",
       "        male      41.281386\n",
       "2       female    28.722973\n",
       "        male      30.740707\n",
       "3       female    21.750000\n",
       "        male      26.507589\n",
       "Name: Age, dtype: float64"
      ]
     },
     "execution_count": 8,
     "metadata": {},
     "output_type": "execute_result"
    }
   ],
   "source": [
    "ave_age = df.groupby(['Pclass','Sex']).mean()['Age']\n",
    "ave_age"
   ]
  },
  {
   "cell_type": "code",
   "execution_count": 9,
   "metadata": {},
   "outputs": [],
   "source": [
    "def blank_ages(Pclass,Sex,Age):\n",
    "    if np.isnan(Age):\n",
    "        return ave_age[Pclass,Sex]\n",
    "    else:\n",
    "        return Age"
   ]
  },
  {
   "cell_type": "code",
   "execution_count": 10,
   "metadata": {},
   "outputs": [],
   "source": [
    "df['Age'] = df.apply(lambda x: blank_ages(x['Pclass'], x['Sex'], x['Age']), axis=1)\n",
    "test['Age'] = test.apply(lambda x: blank_ages(x['Pclass'], x['Sex'], x['Age']), axis=1)"
   ]
  },
  {
   "cell_type": "code",
   "execution_count": 11,
   "metadata": {},
   "outputs": [],
   "source": [
    "df['Cabin'] = df['Cabin'].notnull().astype('int')\n",
    "test['Cabin'] = test['Cabin'].notnull().astype('int')"
   ]
  },
  {
   "cell_type": "code",
   "execution_count": 12,
   "metadata": {},
   "outputs": [],
   "source": [
    "test['Fare'] = test['Fare'].fillna(0)"
   ]
  },
  {
   "cell_type": "code",
   "execution_count": 13,
   "metadata": {},
   "outputs": [
    {
     "data": {
      "text/plain": [
       "<matplotlib.axes._subplots.AxesSubplot at 0xb65ba08>"
      ]
     },
     "execution_count": 13,
     "metadata": {},
     "output_type": "execute_result"
    },
    {
     "data": {
      "image/png": "[encoded data removed]",
      "text/plain": [
       "<Figure size 504x288 with 1 Axes>"
      ]
     },
     "metadata": {
      "needs_background": "light"
     },
     "output_type": "display_data"
    }
   ],
   "source": [
    "plt.figure(figsize=(7,4))\n",
    "sns.countplot(x='Cabin',data=df, hue='Survived')"
   ]
  },
  {
   "cell_type": "markdown",
   "metadata": {},
   "source": [
    "I've created a function which finds Null Ages and maps back to the average age/sex we calculated earlier. After doing this and amending Cabin to present 0/1 we are now not missing Numeric variables. Now lets clean up our categorical variables."
   ]
  },
  {
   "cell_type": "code",
   "execution_count": 14,
   "metadata": {},
   "outputs": [],
   "source": [
    "m = {'m' : 1, 'f' : 0}\n",
    "df['Sex'] = df['Sex'].str[0].str.lower().map(m)\n",
    "test['Sex'] = test['Sex'].str[0].str.lower().map(m)"
   ]
  },
  {
   "cell_type": "code",
   "execution_count": 15,
   "metadata": {},
   "outputs": [
    {
     "data": {
      "text/html": [
       "<div>\n",
       "<style scoped>\n",
       "    .dataframe tbody tr th:only-of-type {\n",
       "        vertical-align: middle;\n",
       "    }\n",
       "\n",
       "    .dataframe tbody tr th {\n",
       "        vertical-align: top;\n",
       "    }\n",
       "\n",
       "    .dataframe thead th {\n",
       "        text-align: right;\n",
       "    }\n",
       "</style>\n",
       "<table border=\"1\" class=\"dataframe\">\n",
       "  <thead>\n",
       "    <tr style=\"text-align: right;\">\n",
       "      <th></th>\n",
       "      <th>PassengerId</th>\n",
       "      <th>Survived</th>\n",
       "      <th>Pclass</th>\n",
       "      <th>Name</th>\n",
       "      <th>Sex</th>\n",
       "      <th>Age</th>\n",
       "      <th>SibSp</th>\n",
       "      <th>Parch</th>\n",
       "      <th>Ticket</th>\n",
       "      <th>Fare</th>\n",
       "      <th>Cabin</th>\n",
       "      <th>Embarked</th>\n",
       "    </tr>\n",
       "  </thead>\n",
       "  <tbody>\n",
       "    <tr>\n",
       "      <th>0</th>\n",
       "      <td>1</td>\n",
       "      <td>0</td>\n",
       "      <td>3</td>\n",
       "      <td>Braund, Mr. Owen Harris</td>\n",
       "      <td>1</td>\n",
       "      <td>22.0</td>\n",
       "      <td>1</td>\n",
       "      <td>0</td>\n",
       "      <td>A/5 21171</td>\n",
       "      <td>7.2500</td>\n",
       "      <td>0</td>\n",
       "      <td>S</td>\n",
       "    </tr>\n",
       "    <tr>\n",
       "      <th>1</th>\n",
       "      <td>2</td>\n",
       "      <td>1</td>\n",
       "      <td>1</td>\n",
       "      <td>Cumings, Mrs. John Bradley (Florence Briggs Th...</td>\n",
       "      <td>0</td>\n",
       "      <td>38.0</td>\n",
       "      <td>1</td>\n",
       "      <td>0</td>\n",
       "      <td>PC 17599</td>\n",
       "      <td>71.2833</td>\n",
       "      <td>1</td>\n",
       "      <td>C</td>\n",
       "    </tr>\n",
       "    <tr>\n",
       "      <th>2</th>\n",
       "      <td>3</td>\n",
       "      <td>1</td>\n",
       "      <td>3</td>\n",
       "      <td>Heikkinen, Miss. Laina</td>\n",
       "      <td>0</td>\n",
       "      <td>26.0</td>\n",
       "      <td>0</td>\n",
       "      <td>0</td>\n",
       "      <td>STON/O2. 3101282</td>\n",
       "      <td>7.9250</td>\n",
       "      <td>0</td>\n",
       "      <td>S</td>\n",
       "    </tr>\n",
       "    <tr>\n",
       "      <th>3</th>\n",
       "      <td>4</td>\n",
       "      <td>1</td>\n",
       "      <td>1</td>\n",
       "      <td>Futrelle, Mrs. Jacques Heath (Lily May Peel)</td>\n",
       "      <td>0</td>\n",
       "      <td>35.0</td>\n",
       "      <td>1</td>\n",
       "      <td>0</td>\n",
       "      <td>113803</td>\n",
       "      <td>53.1000</td>\n",
       "      <td>1</td>\n",
       "      <td>S</td>\n",
       "    </tr>\n",
       "    <tr>\n",
       "      <th>4</th>\n",
       "      <td>5</td>\n",
       "      <td>0</td>\n",
       "      <td>3</td>\n",
       "      <td>Allen, Mr. William Henry</td>\n",
       "      <td>1</td>\n",
       "      <td>35.0</td>\n",
       "      <td>0</td>\n",
       "      <td>0</td>\n",
       "      <td>373450</td>\n",
       "      <td>8.0500</td>\n",
       "      <td>0</td>\n",
       "      <td>S</td>\n",
       "    </tr>\n",
       "  </tbody>\n",
       "</table>\n",
       "</div>"
      ],
      "text/plain": [
       "   PassengerId  Survived  Pclass  \\\n",
       "0            1         0       3   \n",
       "1            2         1       1   \n",
       "2            3         1       3   \n",
       "3            4         1       1   \n",
       "4            5         0       3   \n",
       "\n",
       "                                                Name  Sex   Age  SibSp  Parch  \\\n",
       "0                            Braund, Mr. Owen Harris    1  22.0      1      0   \n",
       "1  Cumings, Mrs. John Bradley (Florence Briggs Th...    0  38.0      1      0   \n",
       "2                             Heikkinen, Miss. Laina    0  26.0      0      0   \n",
       "3       Futrelle, Mrs. Jacques Heath (Lily May Peel)    0  35.0      1      0   \n",
       "4                           Allen, Mr. William Henry    1  35.0      0      0   \n",
       "\n",
       "             Ticket     Fare  Cabin Embarked  \n",
       "0         A/5 21171   7.2500      0        S  \n",
       "1          PC 17599  71.2833      1        C  \n",
       "2  STON/O2. 3101282   7.9250      0        S  \n",
       "3            113803  53.1000      1        S  \n",
       "4            373450   8.0500      0        S  "
      ]
     },
     "execution_count": 15,
     "metadata": {},
     "output_type": "execute_result"
    }
   ],
   "source": [
    "df.head()"
   ]
  },
  {
   "cell_type": "markdown",
   "metadata": {},
   "source": [
    "There could be information to be gained from the Name column, however this can be tricky and arguably, titles like 'Miss' implying age and gender can already be inferred from Sex and Age variables. We will drop this column and Ticket, for similar reasons. Additionally, we will attempt to convert Embarked using pd.get_dummies and convert SibSp & Parch into a variable indicating Group Size. Finally we will also convert Pclass using pd.get_dummies, always using drop_first=True so we are not retaining redundant information and introducing multi-collinearity."
   ]
  },
  {
   "cell_type": "code",
   "execution_count": 16,
   "metadata": {},
   "outputs": [],
   "source": [
    "embarked_dummies = pd.get_dummies(df['Embarked'], drop_first = True,prefix='Embarked')\n",
    "df = pd.concat([df.drop('Embarked',axis=1),embarked_dummies],axis=1)\n",
    "\n",
    "embarked_dummies = pd.get_dummies(test['Embarked'], drop_first = True,prefix='Embarked')\n",
    "test = pd.concat([test.drop('Embarked',axis=1),embarked_dummies],axis=1)"
   ]
  },
  {
   "cell_type": "code",
   "execution_count": 17,
   "metadata": {},
   "outputs": [],
   "source": [
    "df = df.drop(['Name', 'Ticket'], axis=1)\n",
    "test = test.drop(['Name', 'Ticket'], axis=1)"
   ]
  },
  {
   "cell_type": "code",
   "execution_count": 18,
   "metadata": {},
   "outputs": [],
   "source": [
    "df['group_size'] = df['SibSp'] + df['Parch'] + 1\n",
    "df = df.drop(['SibSp', 'Parch'], axis=1)\n",
    "\n",
    "test['group_size'] = test['SibSp'] + test['Parch'] + 1\n",
    "test = test.drop(['SibSp', 'Parch'], axis=1)"
   ]
  },
  {
   "cell_type": "code",
   "execution_count": 19,
   "metadata": {},
   "outputs": [],
   "source": [
    "df['Group_Size'] = pd.cut(df.group_size,bins=[0,1,4,11],labels=['Alone','Small','Large'])\n",
    "group_dummies = pd.get_dummies(df['Group_Size'], drop_first = True,prefix='Group')\n",
    "df = pd.concat([df.drop('Group_Size',axis=1),group_dummies],axis=1)\n",
    "df = df.drop('group_size',axis=1)\n",
    "\n",
    "\n",
    "test['Group_Size'] = pd.cut(test.group_size,bins=[0,1,4,11],labels=['Alone','Small','Large'])\n",
    "group_dummies = pd.get_dummies(test['Group_Size'], drop_first = True,prefix='Group')\n",
    "test = pd.concat([test.drop('Group_Size',axis=1),group_dummies],axis=1)\n",
    "test = test.drop('group_size',axis=1)"
   ]
  },
  {
   "cell_type": "code",
   "execution_count": 20,
   "metadata": {},
   "outputs": [],
   "source": [
    "class_dummies = pd.get_dummies(df['Pclass'], drop_first = True,prefix='Class')\n",
    "df = pd.concat([df.drop('Pclass',axis=1),class_dummies],axis=1)\n",
    "\n",
    "class_dummies = pd.get_dummies(test['Pclass'], drop_first = True,prefix='Class')\n",
    "test = pd.concat([test.drop('Pclass',axis=1),class_dummies],axis=1)"
   ]
  },
  {
   "cell_type": "code",
   "execution_count": 21,
   "metadata": {},
   "outputs": [
    {
     "data": {
      "text/html": [
       "<div>\n",
       "<style scoped>\n",
       "    .dataframe tbody tr th:only-of-type {\n",
       "        vertical-align: middle;\n",
       "    }\n",
       "\n",
       "    .dataframe tbody tr th {\n",
       "        vertical-align: top;\n",
       "    }\n",
       "\n",
       "    .dataframe thead th {\n",
       "        text-align: right;\n",
       "    }\n",
       "</style>\n",
       "<table border=\"1\" class=\"dataframe\">\n",
       "  <thead>\n",
       "    <tr style=\"text-align: right;\">\n",
       "      <th></th>\n",
       "      <th>PassengerId</th>\n",
       "      <th>Survived</th>\n",
       "      <th>Sex</th>\n",
       "      <th>Age</th>\n",
       "      <th>Fare</th>\n",
       "      <th>Cabin</th>\n",
       "      <th>Embarked_Q</th>\n",
       "      <th>Embarked_S</th>\n",
       "      <th>Group_Small</th>\n",
       "      <th>Group_Large</th>\n",
       "      <th>Class_2</th>\n",
       "      <th>Class_3</th>\n",
       "    </tr>\n",
       "  </thead>\n",
       "  <tbody>\n",
       "    <tr>\n",
       "      <th>0</th>\n",
       "      <td>1</td>\n",
       "      <td>0</td>\n",
       "      <td>1</td>\n",
       "      <td>22.0</td>\n",
       "      <td>7.2500</td>\n",
       "      <td>0</td>\n",
       "      <td>0</td>\n",
       "      <td>1</td>\n",
       "      <td>1</td>\n",
       "      <td>0</td>\n",
       "      <td>0</td>\n",
       "      <td>1</td>\n",
       "    </tr>\n",
       "    <tr>\n",
       "      <th>1</th>\n",
       "      <td>2</td>\n",
       "      <td>1</td>\n",
       "      <td>0</td>\n",
       "      <td>38.0</td>\n",
       "      <td>71.2833</td>\n",
       "      <td>1</td>\n",
       "      <td>0</td>\n",
       "      <td>0</td>\n",
       "      <td>1</td>\n",
       "      <td>0</td>\n",
       "      <td>0</td>\n",
       "      <td>0</td>\n",
       "    </tr>\n",
       "    <tr>\n",
       "      <th>2</th>\n",
       "      <td>3</td>\n",
       "      <td>1</td>\n",
       "      <td>0</td>\n",
       "      <td>26.0</td>\n",
       "      <td>7.9250</td>\n",
       "      <td>0</td>\n",
       "      <td>0</td>\n",
       "      <td>1</td>\n",
       "      <td>0</td>\n",
       "      <td>0</td>\n",
       "      <td>0</td>\n",
       "      <td>1</td>\n",
       "    </tr>\n",
       "    <tr>\n",
       "      <th>3</th>\n",
       "      <td>4</td>\n",
       "      <td>1</td>\n",
       "      <td>0</td>\n",
       "      <td>35.0</td>\n",
       "      <td>53.1000</td>\n",
       "      <td>1</td>\n",
       "      <td>0</td>\n",
       "      <td>1</td>\n",
       "      <td>1</td>\n",
       "      <td>0</td>\n",
       "      <td>0</td>\n",
       "      <td>0</td>\n",
       "    </tr>\n",
       "    <tr>\n",
       "      <th>4</th>\n",
       "      <td>5</td>\n",
       "      <td>0</td>\n",
       "      <td>1</td>\n",
       "      <td>35.0</td>\n",
       "      <td>8.0500</td>\n",
       "      <td>0</td>\n",
       "      <td>0</td>\n",
       "      <td>1</td>\n",
       "      <td>0</td>\n",
       "      <td>0</td>\n",
       "      <td>0</td>\n",
       "      <td>1</td>\n",
       "    </tr>\n",
       "  </tbody>\n",
       "</table>\n",
       "</div>"
      ],
      "text/plain": [
       "   PassengerId  Survived  Sex   Age     Fare  Cabin  Embarked_Q  Embarked_S  \\\n",
       "0            1         0    1  22.0   7.2500      0           0           1   \n",
       "1            2         1    0  38.0  71.2833      1           0           0   \n",
       "2            3         1    0  26.0   7.9250      0           0           1   \n",
       "3            4         1    0  35.0  53.1000      1           0           1   \n",
       "4            5         0    1  35.0   8.0500      0           0           1   \n",
       "\n",
       "   Group_Small  Group_Large  Class_2  Class_3  \n",
       "0            1            0        0        1  \n",
       "1            1            0        0        0  \n",
       "2            0            0        0        1  \n",
       "3            1            0        0        0  \n",
       "4            0            0        0        1  "
      ]
     },
     "execution_count": 21,
     "metadata": {},
     "output_type": "execute_result"
    }
   ],
   "source": [
    "df.head()"
   ]
  },
  {
   "cell_type": "markdown",
   "metadata": {},
   "source": [
    "### Building a Logistic Regression Model\n",
    "\n",
    "Now that our categorical features have been converted and our data cleansed, we will begin training our model. But first, let's drop PassengerId and then split the data using train/test split. Afterwards, we will also scale our continuous variables (Age & Fare) using sklearn's MinMaxScaler."
   ]
  },
  {
   "cell_type": "code",
   "execution_count": 22,
   "metadata": {},
   "outputs": [],
   "source": [
    "from sklearn.model_selection import train_test_split\n",
    "from sklearn.linear_model import LogisticRegression\n",
    "from sklearn.metrics import classification_report,confusion_matrix\n",
    "from sklearn.preprocessing import MinMaxScaler"
   ]
  },
  {
   "cell_type": "code",
   "execution_count": 23,
   "metadata": {},
   "outputs": [],
   "source": [
    "df = df.drop('PassengerId',axis=1)\n",
    "test_tf = test.drop('PassengerId',axis=1)"
   ]
  },
  {
   "cell_type": "code",
   "execution_count": 24,
   "metadata": {},
   "outputs": [],
   "source": [
    "X_train, X_test, y_train, y_test = train_test_split(df.drop('Survived',axis=1), \n",
    "                                                    df['Survived'], test_size=0.30, \n",
    "                                                    random_state=101)"
   ]
  },
  {
   "cell_type": "code",
   "execution_count": 25,
   "metadata": {},
   "outputs": [],
   "source": [
    "scaler = MinMaxScaler()\n",
    "X_train = scaler.fit_transform(X_train)\n",
    "X_test = scaler.transform(X_test)\n",
    "test_tf = scaler.transform(test_tf)"
   ]
  },
  {
   "cell_type": "code",
   "execution_count": 26,
   "metadata": {},
   "outputs": [
    {
     "data": {
      "text/plain": [
       "LogisticRegression(C=1.0, class_weight=None, dual=False, fit_intercept=True,\n",
       "                   intercept_scaling=1, l1_ratio=None, max_iter=100,\n",
       "                   multi_class='auto', n_jobs=None, penalty='l2',\n",
       "                   random_state=None, solver='lbfgs', tol=0.0001, verbose=0,\n",
       "                   warm_start=False)"
      ]
     },
     "execution_count": 26,
     "metadata": {},
     "output_type": "execute_result"
    }
   ],
   "source": [
    "logmodel = LogisticRegression()\n",
    "logmodel.fit(X_train,y_train)"
   ]
  },
  {
   "cell_type": "code",
   "execution_count": 27,
   "metadata": {},
   "outputs": [],
   "source": [
    "predictions = logmodel.predict(X_test)"
   ]
  },
  {
   "cell_type": "code",
   "execution_count": 28,
   "metadata": {},
   "outputs": [
    {
     "name": "stdout",
     "output_type": "stream",
     "text": [
      "[[137  17]\n",
      " [ 38  76]]\n",
      "              precision    recall  f1-score   support\n",
      "\n",
      "           0       0.78      0.89      0.83       154\n",
      "           1       0.82      0.67      0.73       114\n",
      "\n",
      "    accuracy                           0.79       268\n",
      "   macro avg       0.80      0.78      0.78       268\n",
      "weighted avg       0.80      0.79      0.79       268\n",
      "\n"
     ]
    }
   ],
   "source": [
    "print(confusion_matrix(y_test, predictions))\n",
    "print(classification_report(y_test,predictions))"
   ]
  },
  {
   "cell_type": "markdown",
   "metadata": {},
   "source": [
    "### Evaluating Model Performance\n",
    "\n",
    "After running Logisitic Regression we can see that of our 268 test examples we correctly predicted 76 survivals and 137 deaths, with 17 False Positives and 38 False Negatives. Our accuracy was 79%, not bad! Now let's see how an Artificial Neural Network would perform."
   ]
  },
  {
   "cell_type": "markdown",
   "metadata": {},
   "source": [
    "### Artificial Neural Networks with Tensorflow\n",
    "\n",
    "Using tensorflow.keras we will build and a Sequential model with 10 input nodes (1 node per variable), two hidden layers with relu activation functions (rectified linear unit) and an output node with sigmoid activation predicting either survival or not.\n",
    "\n",
    "As this is a relatively small dataset we don't need to worry too much about computational cost, as a result I have arbitrarily set epochs to 1,000, with an early stopping callback. Additionally, to prevent overfitting to the training set I have added dropout to my hidden layers with a rate of 20%. I will then plot training loss vs. validation loss."
   ]
  },
  {
   "cell_type": "code",
   "execution_count": 29,
   "metadata": {},
   "outputs": [],
   "source": [
    "import tensorflow as tf\n",
    "from tensorflow.keras.models import Sequential\n",
    "from tensorflow.keras.layers import Dense, Activation,Dropout\n",
    "from tensorflow.keras.constraints import max_norm\n",
    "from tensorflow.keras.models import load_model\n",
    "from tensorflow.keras.callbacks import EarlyStopping"
   ]
  },
  {
   "cell_type": "code",
   "execution_count": 30,
   "metadata": {},
   "outputs": [],
   "source": [
    "test_tf = test.drop('PassengerId',axis=1)\n",
    "X = df.drop('Survived',axis=1).values\n",
    "y = df['Survived'].values\n",
    "X_train, X_test, y_train, y_test = train_test_split(X, y, test_size=0.30, random_state=101)"
   ]
  },
  {
   "cell_type": "code",
   "execution_count": 31,
   "metadata": {},
   "outputs": [],
   "source": [
    "scaler = MinMaxScaler()\n",
    "X_train = scaler.fit_transform(X_train)\n",
    "X_test = scaler.transform(X_test)\n",
    "test_tf = scaler.transform(test_tf)"
   ]
  },
  {
   "cell_type": "code",
   "execution_count": 32,
   "metadata": {},
   "outputs": [],
   "source": [
    "model = Sequential()\n",
    "\n",
    "model.add(Dense(10,  activation='relu'))\n",
    "model.add(Dropout(0.20))\n",
    "\n",
    "model.add(Dense(20, activation='relu'))\n",
    "model.add(Dropout(0.20))\n",
    "\n",
    "model.add(Dense(10, activation='relu'))\n",
    "model.add(Dropout(0.20))\n",
    "\n",
    "model.add(Dense(units=1,activation='sigmoid'))\n",
    "\n",
    "model.compile(loss='binary_crossentropy', optimizer='adam')\n",
    "early_stop = EarlyStopping(monitor='val_loss', mode='min', verbose=1, patience=30)"
   ]
  },
  {
   "cell_type": "code",
   "execution_count": 33,
   "metadata": {},
   "outputs": [
    {
     "name": "stdout",
     "output_type": "stream",
     "text": [
      "Train on 623 samples, validate on 268 samples\n",
      "Epoch 1/1000\n",
      "623/623 [==============================] - 1s 2ms/sample - loss: 0.7095 - val_loss: 0.6864\n",
      "Epoch 2/1000\n",
      "623/623 [==============================] - 0s 172us/sample - loss: 0.6849 - val_loss: 0.6782\n",
      "Epoch 3/1000\n",
      "623/623 [==============================] - 0s 186us/sample - loss: 0.6783 - val_loss: 0.6706\n",
      "Epoch 4/1000\n",
      "623/623 [==============================] - 0s 151us/sample - loss: 0.6678 - val_loss: 0.6622\n",
      "Epoch 5/1000\n",
      "623/623 [==============================] - 0s 149us/sample - loss: 0.6527 - val_loss: 0.6504\n",
      "Epoch 6/1000\n",
      "623/623 [==============================] - 0s 172us/sample - loss: 0.6428 - val_loss: 0.6403\n",
      "Epoch 7/1000\n",
      "623/623 [==============================] - 0s 172us/sample - loss: 0.6307 - val_loss: 0.6261\n",
      "Epoch 8/1000\n",
      "623/623 [==============================] - 0s 154us/sample - loss: 0.6086 - val_loss: 0.6112\n",
      "Epoch 9/1000\n",
      "623/623 [==============================] - 0s 172us/sample - loss: 0.5793 - val_loss: 0.5849\n",
      "Epoch 10/1000\n",
      "623/623 [==============================] - 0s 162us/sample - loss: 0.5546 - val_loss: 0.5618\n",
      "Epoch 11/1000\n",
      "623/623 [==============================] - 0s 146us/sample - loss: 0.5461 - val_loss: 0.5449\n",
      "Epoch 12/1000\n",
      "623/623 [==============================] - 0s 169us/sample - loss: 0.5145 - val_loss: 0.5352\n",
      "Epoch 13/1000\n",
      "623/623 [==============================] - 0s 170us/sample - loss: 0.5273 - val_loss: 0.5211\n",
      "Epoch 14/1000\n",
      "623/623 [==============================] - 0s 152us/sample - loss: 0.5080 - val_loss: 0.5117\n",
      "Epoch 15/1000\n",
      "623/623 [==============================] - 0s 175us/sample - loss: 0.4974 - val_loss: 0.5055\n",
      "Epoch 16/1000\n",
      "623/623 [==============================] - 0s 120us/sample - loss: 0.5101 - val_loss: 0.5029\n",
      "Epoch 17/1000\n",
      "623/623 [==============================] - 0s 127us/sample - loss: 0.4835 - val_loss: 0.4939\n",
      "Epoch 18/1000\n",
      "623/623 [==============================] - 0s 112us/sample - loss: 0.5049 - val_loss: 0.4921\n",
      "Epoch 19/1000\n",
      "623/623 [==============================] - 0s 127us/sample - loss: 0.5056 - val_loss: 0.4935\n",
      "Epoch 20/1000\n",
      "623/623 [==============================] - 0s 183us/sample - loss: 0.4928 - val_loss: 0.4851\n",
      "Epoch 21/1000\n",
      "623/623 [==============================] - 0s 188us/sample - loss: 0.4863 - val_loss: 0.4805\n",
      "Epoch 22/1000\n",
      "623/623 [==============================] - 0s 108us/sample - loss: 0.4951 - val_loss: 0.4807\n",
      "Epoch 23/1000\n",
      "623/623 [==============================] - 0s 108us/sample - loss: 0.4902 - val_loss: 0.4805\n",
      "Epoch 24/1000\n",
      "623/623 [==============================] - 0s 116us/sample - loss: 0.4728 - val_loss: 0.4773\n",
      "Epoch 25/1000\n",
      "623/623 [==============================] - 0s 116us/sample - loss: 0.4764 - val_loss: 0.4735\n",
      "Epoch 26/1000\n",
      "623/623 [==============================] - 0s 112us/sample - loss: 0.4786 - val_loss: 0.4736\n",
      "Epoch 27/1000\n",
      "623/623 [==============================] - 0s 130us/sample - loss: 0.4638 - val_loss: 0.4699\n",
      "Epoch 28/1000\n",
      "623/623 [==============================] - 0s 141us/sample - loss: 0.4648 - val_loss: 0.4697\n",
      "Epoch 29/1000\n",
      "623/623 [==============================] - 0s 117us/sample - loss: 0.4481 - val_loss: 0.4725\n",
      "Epoch 30/1000\n",
      "623/623 [==============================] - 0s 133us/sample - loss: 0.4734 - val_loss: 0.4660\n",
      "Epoch 31/1000\n",
      "623/623 [==============================] - 0s 116us/sample - loss: 0.4713 - val_loss: 0.4653\n",
      "Epoch 32/1000\n",
      "623/623 [==============================] - 0s 114us/sample - loss: 0.4580 - val_loss: 0.4647\n",
      "Epoch 33/1000\n",
      "623/623 [==============================] - 0s 112us/sample - loss: 0.4580 - val_loss: 0.4654\n",
      "Epoch 34/1000\n",
      "623/623 [==============================] - 0s 156us/sample - loss: 0.4286 - val_loss: 0.4639\n",
      "Epoch 35/1000\n",
      "623/623 [==============================] - 0s 146us/sample - loss: 0.4666 - val_loss: 0.4609\n",
      "Epoch 36/1000\n",
      "623/623 [==============================] - 0s 108us/sample - loss: 0.4672 - val_loss: 0.4599\n",
      "Epoch 37/1000\n",
      "623/623 [==============================] - 0s 124us/sample - loss: 0.4683 - val_loss: 0.4599\n",
      "Epoch 38/1000\n",
      "623/623 [==============================] - 0s 202us/sample - loss: 0.4633 - val_loss: 0.4589\n",
      "Epoch 39/1000\n",
      "623/623 [==============================] - 0s 218us/sample - loss: 0.4611 - val_loss: 0.4588\n",
      "Epoch 40/1000\n",
      "623/623 [==============================] - 0s 218us/sample - loss: 0.4675 - val_loss: 0.4585\n",
      "Epoch 41/1000\n",
      "623/623 [==============================] - 0s 213us/sample - loss: 0.4522 - val_loss: 0.4564\n",
      "Epoch 42/1000\n",
      "623/623 [==============================] - 0s 225us/sample - loss: 0.4682 - val_loss: 0.4584\n",
      "Epoch 43/1000\n",
      "623/623 [==============================] - 0s 189us/sample - loss: 0.4494 - val_loss: 0.4557\n",
      "Epoch 44/1000\n",
      "623/623 [==============================] - 0s 210us/sample - loss: 0.4323 - val_loss: 0.4567\n",
      "Epoch 45/1000\n",
      "623/623 [==============================] - 0s 133us/sample - loss: 0.4555 - val_loss: 0.4542\n",
      "Epoch 46/1000\n",
      "623/623 [==============================] - 0s 136us/sample - loss: 0.4553 - val_loss: 0.4561\n",
      "Epoch 47/1000\n",
      "623/623 [==============================] - 0s 111us/sample - loss: 0.4535 - val_loss: 0.4561\n",
      "Epoch 48/1000\n",
      "623/623 [==============================] - 0s 114us/sample - loss: 0.4538 - val_loss: 0.4563\n",
      "Epoch 49/1000\n",
      "623/623 [==============================] - 0s 143us/sample - loss: 0.4452 - val_loss: 0.4591\n",
      "Epoch 50/1000\n",
      "623/623 [==============================] - 0s 116us/sample - loss: 0.4302 - val_loss: 0.4552\n",
      "Epoch 51/1000\n",
      "623/623 [==============================] - 0s 138us/sample - loss: 0.4537 - val_loss: 0.4525\n",
      "Epoch 52/1000\n",
      "623/623 [==============================] - 0s 117us/sample - loss: 0.4349 - val_loss: 0.4553\n",
      "Epoch 53/1000\n",
      "623/623 [==============================] - 0s 130us/sample - loss: 0.4279 - val_loss: 0.4542\n",
      "Epoch 54/1000\n",
      "623/623 [==============================] - 0s 136us/sample - loss: 0.4525 - val_loss: 0.4561\n",
      "Epoch 55/1000\n",
      "623/623 [==============================] - 0s 116us/sample - loss: 0.4405 - val_loss: 0.4559\n",
      "Epoch 56/1000\n",
      "623/623 [==============================] - 0s 101us/sample - loss: 0.4291 - val_loss: 0.4530\n",
      "Epoch 57/1000\n",
      "623/623 [==============================] - 0s 100us/sample - loss: 0.4473 - val_loss: 0.4538\n",
      "Epoch 58/1000\n",
      "623/623 [==============================] - 0s 106us/sample - loss: 0.4221 - val_loss: 0.4512\n",
      "Epoch 59/1000\n",
      "623/623 [==============================] - 0s 144us/sample - loss: 0.4481 - val_loss: 0.4548\n",
      "Epoch 60/1000\n",
      "623/623 [==============================] - 0s 111us/sample - loss: 0.4388 - val_loss: 0.4546\n",
      "Epoch 61/1000\n",
      "623/623 [==============================] - 0s 130us/sample - loss: 0.4484 - val_loss: 0.4544\n",
      "Epoch 62/1000\n",
      "623/623 [==============================] - 0s 109us/sample - loss: 0.4236 - val_loss: 0.4520\n",
      "Epoch 63/1000\n",
      "623/623 [==============================] - 0s 103us/sample - loss: 0.4187 - val_loss: 0.4522\n",
      "Epoch 64/1000\n",
      "623/623 [==============================] - 0s 103us/sample - loss: 0.4644 - val_loss: 0.4491\n",
      "Epoch 65/1000\n",
      "623/623 [==============================] - 0s 156us/sample - loss: 0.4527 - val_loss: 0.4495\n",
      "Epoch 66/1000\n",
      "623/623 [==============================] - 0s 112us/sample - loss: 0.4397 - val_loss: 0.4532\n",
      "Epoch 67/1000\n",
      "623/623 [==============================] - 0s 109us/sample - loss: 0.4353 - val_loss: 0.4501\n",
      "Epoch 68/1000\n",
      "623/623 [==============================] - 0s 106us/sample - loss: 0.4283 - val_loss: 0.4508\n",
      "Epoch 69/1000\n",
      "623/623 [==============================] - 0s 103us/sample - loss: 0.4391 - val_loss: 0.4513\n",
      "Epoch 70/1000\n",
      "623/623 [==============================] - 0s 104us/sample - loss: 0.4363 - val_loss: 0.4480\n",
      "Epoch 71/1000\n",
      "623/623 [==============================] - 0s 103us/sample - loss: 0.4440 - val_loss: 0.4499\n",
      "Epoch 72/1000\n",
      "623/623 [==============================] - 0s 101us/sample - loss: 0.4270 - val_loss: 0.4516\n",
      "Epoch 73/1000\n",
      "623/623 [==============================] - 0s 106us/sample - loss: 0.4443 - val_loss: 0.4526\n",
      "Epoch 74/1000\n",
      "623/623 [==============================] - 0s 114us/sample - loss: 0.4326 - val_loss: 0.4518\n",
      "Epoch 75/1000\n",
      "623/623 [==============================] - 0s 116us/sample - loss: 0.4395 - val_loss: 0.4516\n",
      "Epoch 76/1000\n",
      "623/623 [==============================] - 0s 132us/sample - loss: 0.4199 - val_loss: 0.4488\n",
      "Epoch 77/1000\n"
     ]
    },
    {
     "name": "stdout",
     "output_type": "stream",
     "text": [
      "623/623 [==============================] - 0s 104us/sample - loss: 0.4459 - val_loss: 0.4454\n",
      "Epoch 78/1000\n",
      "623/623 [==============================] - 0s 101us/sample - loss: 0.4333 - val_loss: 0.4480\n",
      "Epoch 79/1000\n",
      "623/623 [==============================] - 0s 96us/sample - loss: 0.4461 - val_loss: 0.4508\n",
      "Epoch 80/1000\n",
      "623/623 [==============================] - 0s 96us/sample - loss: 0.4333 - val_loss: 0.4500\n",
      "Epoch 81/1000\n",
      "623/623 [==============================] - 0s 106us/sample - loss: 0.4348 - val_loss: 0.4490\n",
      "Epoch 82/1000\n",
      "623/623 [==============================] - 0s 106us/sample - loss: 0.4367 - val_loss: 0.4495\n",
      "Epoch 83/1000\n",
      "623/623 [==============================] - 0s 106us/sample - loss: 0.4328 - val_loss: 0.4468\n",
      "Epoch 84/1000\n",
      "623/623 [==============================] - 0s 96us/sample - loss: 0.4251 - val_loss: 0.4450\n",
      "Epoch 85/1000\n",
      "623/623 [==============================] - 0s 106us/sample - loss: 0.4346 - val_loss: 0.4488\n",
      "Epoch 86/1000\n",
      "623/623 [==============================] - 0s 104us/sample - loss: 0.4276 - val_loss: 0.4473\n",
      "Epoch 87/1000\n",
      "623/623 [==============================] - 0s 103us/sample - loss: 0.4216 - val_loss: 0.4479\n",
      "Epoch 88/1000\n",
      "623/623 [==============================] - 0s 108us/sample - loss: 0.4156 - val_loss: 0.4462\n",
      "Epoch 89/1000\n",
      "623/623 [==============================] - 0s 104us/sample - loss: 0.4319 - val_loss: 0.4460\n",
      "Epoch 90/1000\n",
      "623/623 [==============================] - 0s 111us/sample - loss: 0.4433 - val_loss: 0.4434\n",
      "Epoch 91/1000\n",
      "623/623 [==============================] - 0s 98us/sample - loss: 0.4464 - val_loss: 0.4460\n",
      "Epoch 92/1000\n",
      "623/623 [==============================] - 0s 104us/sample - loss: 0.4042 - val_loss: 0.4439\n",
      "Epoch 93/1000\n",
      "623/623 [==============================] - 0s 103us/sample - loss: 0.4246 - val_loss: 0.4442\n",
      "Epoch 94/1000\n",
      "623/623 [==============================] - 0s 106us/sample - loss: 0.4283 - val_loss: 0.4437\n",
      "Epoch 95/1000\n",
      "623/623 [==============================] - 0s 100us/sample - loss: 0.4329 - val_loss: 0.4444\n",
      "Epoch 96/1000\n",
      "623/623 [==============================] - 0s 103us/sample - loss: 0.4149 - val_loss: 0.4448\n",
      "Epoch 97/1000\n",
      "623/623 [==============================] - 0s 104us/sample - loss: 0.4100 - val_loss: 0.4445\n",
      "Epoch 98/1000\n",
      "623/623 [==============================] - 0s 101us/sample - loss: 0.4305 - val_loss: 0.4425\n",
      "Epoch 99/1000\n",
      "623/623 [==============================] - 0s 154us/sample - loss: 0.4157 - val_loss: 0.4423\n",
      "Epoch 100/1000\n",
      "623/623 [==============================] - 0s 114us/sample - loss: 0.4535 - val_loss: 0.4429\n",
      "Epoch 101/1000\n",
      "623/623 [==============================] - 0s 104us/sample - loss: 0.4114 - val_loss: 0.4428\n",
      "Epoch 102/1000\n",
      "623/623 [==============================] - 0s 109us/sample - loss: 0.4293 - val_loss: 0.4383\n",
      "Epoch 103/1000\n",
      "623/623 [==============================] - 0s 98us/sample - loss: 0.4378 - val_loss: 0.4405\n",
      "Epoch 104/1000\n",
      "623/623 [==============================] - 0s 135us/sample - loss: 0.4244 - val_loss: 0.4427\n",
      "Epoch 105/1000\n",
      "623/623 [==============================] - 0s 170us/sample - loss: 0.4193 - val_loss: 0.4448\n",
      "Epoch 106/1000\n",
      "623/623 [==============================] - 0s 315us/sample - loss: 0.4222 - val_loss: 0.4415\n",
      "Epoch 107/1000\n",
      "623/623 [==============================] - 0s 364us/sample - loss: 0.4220 - val_loss: 0.4406\n",
      "Epoch 108/1000\n",
      "623/623 [==============================] - 0s 260us/sample - loss: 0.4242 - val_loss: 0.4401\n",
      "Epoch 109/1000\n",
      "623/623 [==============================] - 0s 108us/sample - loss: 0.4086 - val_loss: 0.4403\n",
      "Epoch 110/1000\n",
      "623/623 [==============================] - 0s 101us/sample - loss: 0.4272 - val_loss: 0.4397\n",
      "Epoch 111/1000\n",
      "623/623 [==============================] - 0s 108us/sample - loss: 0.4174 - val_loss: 0.4460\n",
      "Epoch 112/1000\n",
      "623/623 [==============================] - 0s 112us/sample - loss: 0.4138 - val_loss: 0.4417\n",
      "Epoch 113/1000\n",
      "623/623 [==============================] - 0s 108us/sample - loss: 0.4098 - val_loss: 0.4402\n",
      "Epoch 114/1000\n",
      "623/623 [==============================] - 0s 101us/sample - loss: 0.4153 - val_loss: 0.4429\n",
      "Epoch 115/1000\n",
      "623/623 [==============================] - 0s 109us/sample - loss: 0.4005 - val_loss: 0.4408\n",
      "Epoch 116/1000\n",
      "623/623 [==============================] - 0s 100us/sample - loss: 0.4136 - val_loss: 0.4387\n",
      "Epoch 117/1000\n",
      "623/623 [==============================] - 0s 114us/sample - loss: 0.4126 - val_loss: 0.4412\n",
      "Epoch 118/1000\n",
      "623/623 [==============================] - 0s 100us/sample - loss: 0.4146 - val_loss: 0.4406\n",
      "Epoch 119/1000\n",
      "623/623 [==============================] - 0s 98us/sample - loss: 0.4084 - val_loss: 0.4412\n",
      "Epoch 120/1000\n",
      "623/623 [==============================] - 0s 124us/sample - loss: 0.4346 - val_loss: 0.4385\n",
      "Epoch 121/1000\n",
      "623/623 [==============================] - 0s 140us/sample - loss: 0.4161 - val_loss: 0.4396\n",
      "Epoch 122/1000\n",
      "623/623 [==============================] - 0s 95us/sample - loss: 0.3853 - val_loss: 0.4385\n",
      "Epoch 123/1000\n",
      "623/623 [==============================] - 0s 111us/sample - loss: 0.4114 - val_loss: 0.4451\n",
      "Epoch 124/1000\n",
      "623/623 [==============================] - 0s 96us/sample - loss: 0.4205 - val_loss: 0.4407\n",
      "Epoch 125/1000\n",
      "623/623 [==============================] - 0s 108us/sample - loss: 0.3973 - val_loss: 0.4396\n",
      "Epoch 126/1000\n",
      "623/623 [==============================] - 0s 103us/sample - loss: 0.4106 - val_loss: 0.4398\n",
      "Epoch 127/1000\n",
      "623/623 [==============================] - 0s 106us/sample - loss: 0.4158 - val_loss: 0.4410\n",
      "Epoch 128/1000\n",
      "623/623 [==============================] - 0s 101us/sample - loss: 0.4165 - val_loss: 0.4436\n",
      "Epoch 129/1000\n",
      "623/623 [==============================] - 0s 96us/sample - loss: 0.4044 - val_loss: 0.4404\n",
      "Epoch 130/1000\n",
      "623/623 [==============================] - 0s 119us/sample - loss: 0.4201 - val_loss: 0.4400\n",
      "Epoch 131/1000\n",
      "623/623 [==============================] - 0s 144us/sample - loss: 0.4153 - val_loss: 0.4411\n",
      "Epoch 132/1000\n",
      "623/623 [==============================] - 0s 101us/sample - loss: 0.4195 - val_loss: 0.4447\n",
      "Epoch 00132: early stopping\n"
     ]
    },
    {
     "data": {
      "text/plain": [
       "<tensorflow.python.keras.callbacks.History at 0x13251608>"
      ]
     },
     "execution_count": 33,
     "metadata": {},
     "output_type": "execute_result"
    }
   ],
   "source": [
    "model.fit(x=X_train, \n",
    "          y=y_train, \n",
    "          epochs=1000,\n",
    "          validation_data=(X_test, y_test), verbose=1,\n",
    "          callbacks=[early_stop] \n",
    "          )"
   ]
  },
  {
   "cell_type": "code",
   "execution_count": 34,
   "metadata": {},
   "outputs": [
    {
     "data": {
      "text/plain": [
       "(0.35, 0.75)"
      ]
     },
     "execution_count": 34,
     "metadata": {},
     "output_type": "execute_result"
    },
    {
     "data": {
      "image/png": "[encoded data removed]",
      "text/plain": [
       "<Figure size 432x288 with 1 Axes>"
      ]
     },
     "metadata": {
      "needs_background": "light"
     },
     "output_type": "display_data"
    }
   ],
   "source": [
    "model.save('Titanic_Model.h5')  \n",
    "losses = pd.DataFrame(model.history.history)\n",
    "plt = losses[['loss','val_loss']].plot()\n",
    "plt.set_ylim([0.35,0.75])"
   ]
  },
  {
   "cell_type": "code",
   "execution_count": 35,
   "metadata": {},
   "outputs": [
    {
     "name": "stdout",
     "output_type": "stream",
     "text": [
      "[[143  11]\n",
      " [ 41  73]]\n",
      "              precision    recall  f1-score   support\n",
      "\n",
      "           0       0.78      0.93      0.85       154\n",
      "           1       0.87      0.64      0.74       114\n",
      "\n",
      "    accuracy                           0.81       268\n",
      "   macro avg       0.82      0.78      0.79       268\n",
      "weighted avg       0.82      0.81      0.80       268\n",
      "\n"
     ]
    }
   ],
   "source": [
    "predictions = model.predict_classes(X_test)\n",
    "print(confusion_matrix(y_test, predictions))\n",
    "print(classification_report(y_test,predictions))"
   ]
  },
  {
   "cell_type": "markdown",
   "metadata": {},
   "source": [
    "### Conclusion\n",
    "\n",
    "Our model trained for 464 epochs before the callback function stopped training. As we can see, we have achieved an accuracy of 81%, which is a slight improvement on our Logistic regression score of 79%.\n",
    "\n",
    "Potential improvements could revolve around more feature engineering, perhaps by utilising the name variable, or looking more into ticket numbers. However, this is likely to only provide marginal gains. Additionally, it would be worth investigating the performance of other algorithms such as Random forest classifiers or Support Vector Machines."
   ]
  },
  {
   "cell_type": "code",
   "execution_count": 36,
   "metadata": {},
   "outputs": [],
   "source": [
    "test_pred = model.predict_classes(test_tf)"
   ]
  },
  {
   "cell_type": "code",
   "execution_count": 37,
   "metadata": {},
   "outputs": [],
   "source": [
    "passengerId = test['PassengerId']\n",
    "passengerId = pd.DataFrame(passengerId)\n",
    "submission = pd.concat([\n",
    "    passengerId,\n",
    "    pd.DataFrame(test_pred, dtype=np.int)\n",
    "], axis=1, ignore_index=True)"
   ]
  },
  {
   "cell_type": "code",
   "execution_count": 38,
   "metadata": {},
   "outputs": [],
   "source": [
    "submission.to_csv('submission_ann.csv', index=False)"
   ]
  }
 ],
 "metadata": {
  "kernelspec": {
   "display_name": "Python 3",
   "language": "python",
   "name": "python3"
  },
  "language_info": {
   "codemirror_mode": {
    "name": "ipython",
    "version": 3
   },
   "file_extension": ".py",
   "mimetype": "text/x-python",
   "name": "python",
   "nbconvert_exporter": "python",
   "pygments_lexer": "ipython3",
   "version": "3.7.6"
  }
 },
 "nbformat": 4,
 "nbformat_minor": 4
}
